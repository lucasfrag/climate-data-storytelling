{
 "cells": [
  {
   "cell_type": "markdown",
   "id": "2bca24d0",
   "metadata": {},
   "source": [
    "1. Download dos datasets atualizados no site do INMET"
   ]
  },
  {
   "cell_type": "markdown",
   "id": "d0056514",
   "metadata": {},
   "source": [
    "2. Criação de arquivos JSONs com dados filtrados dos datasets"
   ]
  },
  {
   "cell_type": "code",
   "execution_count": null,
   "id": "afc808ec",
   "metadata": {
    "vscode": {
     "languageId": "plaintext"
    }
   },
   "outputs": [],
   "source": [
    "# Gerar JSON com dados das estações do RS\n",
    "!python \n",
    "\n",
    "# Gerar JSON com dados ...\n"
   ]
  }
 ],
 "metadata": {
  "language_info": {
   "name": "python"
  }
 },
 "nbformat": 4,
 "nbformat_minor": 5
}
